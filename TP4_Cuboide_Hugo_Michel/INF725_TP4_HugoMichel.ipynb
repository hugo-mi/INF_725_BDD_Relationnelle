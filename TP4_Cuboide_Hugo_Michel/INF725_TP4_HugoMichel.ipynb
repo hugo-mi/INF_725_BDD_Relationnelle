{
 "cells": [
  {
   "cell_type": "markdown",
   "metadata": {},
   "source": [
    "# TP n°4 de Bases de Données\n",
    "## Accès aux données avec Python et construction d’un schéma en étoile"
   ]
  },
  {
   "cell_type": "markdown",
   "metadata": {},
   "source": [
    "### Interagir avec une base SQLite depuis le langage Python"
   ]
  },
  {
   "cell_type": "markdown",
   "metadata": {},
   "source": [
    "##### Importation des librairies"
   ]
  },
  {
   "cell_type": "code",
   "execution_count": 1,
   "metadata": {},
   "outputs": [],
   "source": [
    "import sqlite3\n",
    "import pandas as pd"
   ]
  },
  {
   "cell_type": "markdown",
   "metadata": {},
   "source": [
    "### Question 1 :\n",
    "#### Connexion : à la base \"TP_python_sqlite.db\""
   ]
  },
  {
   "cell_type": "code",
   "execution_count": 2,
   "metadata": {},
   "outputs": [
    {
     "data": {
      "text/plain": [
       "<sqlite3.Connection at 0x1dc4b696990>"
      ]
     },
     "execution_count": 2,
     "metadata": {},
     "output_type": "execute_result"
    }
   ],
   "source": [
    "conn = sqlite3.connect(\"TP_python_sqlite.db\")\n",
    "conn"
   ]
  },
  {
   "cell_type": "markdown",
   "metadata": {},
   "source": [
    "### Question 2 :\n",
    "#### Affichage de la requête \"select * from MAGASIN\" avec les fonctions suivantes : \n",
    "- Fechtall()\n",
    "- Fetchone()"
   ]
  },
  {
   "cell_type": "markdown",
   "metadata": {},
   "source": [
    "#### Cas 1 : Avec fetchall()"
   ]
  },
  {
   "cell_type": "code",
   "execution_count": 3,
   "metadata": {},
   "outputs": [
    {
     "name": "stdout",
     "output_type": "stream",
     "text": [
      "[('Store No. 1', '999 Main Street', 'New York', 'New York', 'NY', 'Jones', 'Modern'), ('Store No. 2', '73 Main Street', 'Chicago', 'Cook', 'IL', 'Smith', 'Original'), ('Store No. 3', '1 Main Street', 'Atlanta', 'Fulton', 'GA', 'Davis', 'Compact'), ('Store No. 4', '575 Main Street', 'Los Angeles', 'Los Angeles', 'CA', 'Johnson', 'Modern'), ('Store No. 5', '123 Main Street', 'San Francisco', 'San Francisco', 'CA', 'Green', 'Original'), ('Store No. 6', '353 Main Street', 'Philadelphia', 'Philadelphia', 'PA', 'Brown', 'Compact'), ('Store No. 7', '839 Main Street', 'Pittsburgh', 'Allegheny', 'PA', 'White', 'Modern'), ('Store No. 8', '651 Main Street', 'New Orleans', 'Orleans', 'LA', 'Williams', 'Original'), ('Store No. 9', '912 Main Street', 'Seattle', 'King', 'WA', 'Stuber', 'Compact'), ('Store No. 10', '752 Main Street', 'Dallas', 'Dallas', 'TX', 'Merz', 'Modern'), ('Store No. 11', '55 Main Street', 'Cincinnati', 'Hamilton', 'OH', 'Erickson', 'Original'), ('Store No. 12', '546 Main Street', 'Minneapolis', 'Hennepin', 'MN', 'Kalman', 'Compact'), ('Store No. 14', '968 Main Street', 'Phoenix', 'Maricopa', 'AZ', 'Strehlo', 'Original'), ('Store No. 15', '228 Main Street', 'Denver', 'Denver', 'CO', 'Ollom', 'Compact'), ('Store No. 16', '333 Main Street', 'St. Louis', 'St. Louis', 'MO', 'Mantle', 'Modern'), ('Store No. 17', '764 Main Street', 'Washington', 'DC', 'DC', 'Mays', 'Original'), ('Store No. 18', '253 Main Street', 'Miami', 'Dade', 'FL', 'Maris', 'Compact'), ('Store No. 19', '999 Main Street', 'Boston', 'Suffolk', 'MA', 'Ruth', 'Modern'), ('Store No. 20', '160 Main Street', 'Nashville', 'Davidson', 'TN', 'Cobb', 'Original')]\n"
     ]
    }
   ],
   "source": [
    "cur = conn.cursor()\n",
    "cur.execute(\"select * from MAGASIN\")\n",
    "results_fetch_all = cur.fetchall()\n",
    "print(results_fetch_all)"
   ]
  },
  {
   "cell_type": "markdown",
   "metadata": {},
   "source": [
    "Avec fetchall() récupère toute la liste"
   ]
  },
  {
   "cell_type": "markdown",
   "metadata": {},
   "source": [
    "#### Cas 2 : Avec fetchone()"
   ]
  },
  {
   "cell_type": "code",
   "execution_count": 4,
   "metadata": {},
   "outputs": [
    {
     "name": "stdout",
     "output_type": "stream",
     "text": [
      "('Store No. 1', '999 Main Street', 'New York', 'New York', 'NY', 'Jones', 'Modern')\n",
      "('Store No. 2', '73 Main Street', 'Chicago', 'Cook', 'IL', 'Smith', 'Original')\n",
      "('Store No. 3', '1 Main Street', 'Atlanta', 'Fulton', 'GA', 'Davis', 'Compact')\n",
      "('Store No. 4', '575 Main Street', 'Los Angeles', 'Los Angeles', 'CA', 'Johnson', 'Modern')\n",
      "('Store No. 5', '123 Main Street', 'San Francisco', 'San Francisco', 'CA', 'Green', 'Original')\n",
      "('Store No. 6', '353 Main Street', 'Philadelphia', 'Philadelphia', 'PA', 'Brown', 'Compact')\n",
      "('Store No. 7', '839 Main Street', 'Pittsburgh', 'Allegheny', 'PA', 'White', 'Modern')\n",
      "('Store No. 8', '651 Main Street', 'New Orleans', 'Orleans', 'LA', 'Williams', 'Original')\n",
      "('Store No. 9', '912 Main Street', 'Seattle', 'King', 'WA', 'Stuber', 'Compact')\n",
      "('Store No. 10', '752 Main Street', 'Dallas', 'Dallas', 'TX', 'Merz', 'Modern')\n",
      "('Store No. 11', '55 Main Street', 'Cincinnati', 'Hamilton', 'OH', 'Erickson', 'Original')\n",
      "('Store No. 12', '546 Main Street', 'Minneapolis', 'Hennepin', 'MN', 'Kalman', 'Compact')\n",
      "('Store No. 14', '968 Main Street', 'Phoenix', 'Maricopa', 'AZ', 'Strehlo', 'Original')\n",
      "('Store No. 15', '228 Main Street', 'Denver', 'Denver', 'CO', 'Ollom', 'Compact')\n",
      "('Store No. 16', '333 Main Street', 'St. Louis', 'St. Louis', 'MO', 'Mantle', 'Modern')\n",
      "('Store No. 17', '764 Main Street', 'Washington', 'DC', 'DC', 'Mays', 'Original')\n",
      "('Store No. 18', '253 Main Street', 'Miami', 'Dade', 'FL', 'Maris', 'Compact')\n",
      "('Store No. 19', '999 Main Street', 'Boston', 'Suffolk', 'MA', 'Ruth', 'Modern')\n",
      "('Store No. 20', '160 Main Street', 'Nashville', 'Davidson', 'TN', 'Cobb', 'Original')\n"
     ]
    }
   ],
   "source": [
    "line = cur.fetchone()\n",
    "for line in cur.execute(\"select * from MAGASIN\"):\n",
    "    print(line)"
   ]
  },
  {
   "cell_type": "markdown",
   "metadata": {},
   "source": [
    "La fonction fetchone() récupère la ligne suivante"
   ]
  },
  {
   "cell_type": "markdown",
   "metadata": {},
   "source": [
    "### Question 3 : \n",
    "#### Création d'un dataframe à partir du résultat de la requête \"select * from MAGASIN\""
   ]
  },
  {
   "cell_type": "code",
   "execution_count": 5,
   "metadata": {},
   "outputs": [
    {
     "data": {
      "text/html": [
       "<div>\n",
       "<style scoped>\n",
       "    .dataframe tbody tr th:only-of-type {\n",
       "        vertical-align: middle;\n",
       "    }\n",
       "\n",
       "    .dataframe tbody tr th {\n",
       "        vertical-align: top;\n",
       "    }\n",
       "\n",
       "    .dataframe thead th {\n",
       "        text-align: right;\n",
       "    }\n",
       "</style>\n",
       "<table border=\"1\" class=\"dataframe\">\n",
       "  <thead>\n",
       "    <tr style=\"text-align: right;\">\n",
       "      <th></th>\n",
       "      <th>NOM</th>\n",
       "      <th>ADRESSE</th>\n",
       "      <th>VILLE</th>\n",
       "      <th>COMTE</th>\n",
       "      <th>ETAT</th>\n",
       "      <th>MANAGER</th>\n",
       "      <th>TYPE</th>\n",
       "    </tr>\n",
       "  </thead>\n",
       "  <tbody>\n",
       "    <tr>\n",
       "      <th>0</th>\n",
       "      <td>Store No. 1</td>\n",
       "      <td>999 Main Street</td>\n",
       "      <td>New York</td>\n",
       "      <td>New York</td>\n",
       "      <td>NY</td>\n",
       "      <td>Jones</td>\n",
       "      <td>Modern</td>\n",
       "    </tr>\n",
       "    <tr>\n",
       "      <th>1</th>\n",
       "      <td>Store No. 2</td>\n",
       "      <td>73 Main Street</td>\n",
       "      <td>Chicago</td>\n",
       "      <td>Cook</td>\n",
       "      <td>IL</td>\n",
       "      <td>Smith</td>\n",
       "      <td>Original</td>\n",
       "    </tr>\n",
       "    <tr>\n",
       "      <th>2</th>\n",
       "      <td>Store No. 3</td>\n",
       "      <td>1 Main Street</td>\n",
       "      <td>Atlanta</td>\n",
       "      <td>Fulton</td>\n",
       "      <td>GA</td>\n",
       "      <td>Davis</td>\n",
       "      <td>Compact</td>\n",
       "    </tr>\n",
       "    <tr>\n",
       "      <th>3</th>\n",
       "      <td>Store No. 4</td>\n",
       "      <td>575 Main Street</td>\n",
       "      <td>Los Angeles</td>\n",
       "      <td>Los Angeles</td>\n",
       "      <td>CA</td>\n",
       "      <td>Johnson</td>\n",
       "      <td>Modern</td>\n",
       "    </tr>\n",
       "    <tr>\n",
       "      <th>4</th>\n",
       "      <td>Store No. 5</td>\n",
       "      <td>123 Main Street</td>\n",
       "      <td>San Francisco</td>\n",
       "      <td>San Francisco</td>\n",
       "      <td>CA</td>\n",
       "      <td>Green</td>\n",
       "      <td>Original</td>\n",
       "    </tr>\n",
       "    <tr>\n",
       "      <th>5</th>\n",
       "      <td>Store No. 6</td>\n",
       "      <td>353 Main Street</td>\n",
       "      <td>Philadelphia</td>\n",
       "      <td>Philadelphia</td>\n",
       "      <td>PA</td>\n",
       "      <td>Brown</td>\n",
       "      <td>Compact</td>\n",
       "    </tr>\n",
       "    <tr>\n",
       "      <th>6</th>\n",
       "      <td>Store No. 7</td>\n",
       "      <td>839 Main Street</td>\n",
       "      <td>Pittsburgh</td>\n",
       "      <td>Allegheny</td>\n",
       "      <td>PA</td>\n",
       "      <td>White</td>\n",
       "      <td>Modern</td>\n",
       "    </tr>\n",
       "    <tr>\n",
       "      <th>7</th>\n",
       "      <td>Store No. 8</td>\n",
       "      <td>651 Main Street</td>\n",
       "      <td>New Orleans</td>\n",
       "      <td>Orleans</td>\n",
       "      <td>LA</td>\n",
       "      <td>Williams</td>\n",
       "      <td>Original</td>\n",
       "    </tr>\n",
       "    <tr>\n",
       "      <th>8</th>\n",
       "      <td>Store No. 9</td>\n",
       "      <td>912 Main Street</td>\n",
       "      <td>Seattle</td>\n",
       "      <td>King</td>\n",
       "      <td>WA</td>\n",
       "      <td>Stuber</td>\n",
       "      <td>Compact</td>\n",
       "    </tr>\n",
       "    <tr>\n",
       "      <th>9</th>\n",
       "      <td>Store No. 10</td>\n",
       "      <td>752 Main Street</td>\n",
       "      <td>Dallas</td>\n",
       "      <td>Dallas</td>\n",
       "      <td>TX</td>\n",
       "      <td>Merz</td>\n",
       "      <td>Modern</td>\n",
       "    </tr>\n",
       "    <tr>\n",
       "      <th>10</th>\n",
       "      <td>Store No. 11</td>\n",
       "      <td>55 Main Street</td>\n",
       "      <td>Cincinnati</td>\n",
       "      <td>Hamilton</td>\n",
       "      <td>OH</td>\n",
       "      <td>Erickson</td>\n",
       "      <td>Original</td>\n",
       "    </tr>\n",
       "    <tr>\n",
       "      <th>11</th>\n",
       "      <td>Store No. 12</td>\n",
       "      <td>546 Main Street</td>\n",
       "      <td>Minneapolis</td>\n",
       "      <td>Hennepin</td>\n",
       "      <td>MN</td>\n",
       "      <td>Kalman</td>\n",
       "      <td>Compact</td>\n",
       "    </tr>\n",
       "    <tr>\n",
       "      <th>12</th>\n",
       "      <td>Store No. 14</td>\n",
       "      <td>968 Main Street</td>\n",
       "      <td>Phoenix</td>\n",
       "      <td>Maricopa</td>\n",
       "      <td>AZ</td>\n",
       "      <td>Strehlo</td>\n",
       "      <td>Original</td>\n",
       "    </tr>\n",
       "    <tr>\n",
       "      <th>13</th>\n",
       "      <td>Store No. 15</td>\n",
       "      <td>228 Main Street</td>\n",
       "      <td>Denver</td>\n",
       "      <td>Denver</td>\n",
       "      <td>CO</td>\n",
       "      <td>Ollom</td>\n",
       "      <td>Compact</td>\n",
       "    </tr>\n",
       "    <tr>\n",
       "      <th>14</th>\n",
       "      <td>Store No. 16</td>\n",
       "      <td>333 Main Street</td>\n",
       "      <td>St. Louis</td>\n",
       "      <td>St. Louis</td>\n",
       "      <td>MO</td>\n",
       "      <td>Mantle</td>\n",
       "      <td>Modern</td>\n",
       "    </tr>\n",
       "    <tr>\n",
       "      <th>15</th>\n",
       "      <td>Store No. 17</td>\n",
       "      <td>764 Main Street</td>\n",
       "      <td>Washington</td>\n",
       "      <td>DC</td>\n",
       "      <td>DC</td>\n",
       "      <td>Mays</td>\n",
       "      <td>Original</td>\n",
       "    </tr>\n",
       "    <tr>\n",
       "      <th>16</th>\n",
       "      <td>Store No. 18</td>\n",
       "      <td>253 Main Street</td>\n",
       "      <td>Miami</td>\n",
       "      <td>Dade</td>\n",
       "      <td>FL</td>\n",
       "      <td>Maris</td>\n",
       "      <td>Compact</td>\n",
       "    </tr>\n",
       "    <tr>\n",
       "      <th>17</th>\n",
       "      <td>Store No. 19</td>\n",
       "      <td>999 Main Street</td>\n",
       "      <td>Boston</td>\n",
       "      <td>Suffolk</td>\n",
       "      <td>MA</td>\n",
       "      <td>Ruth</td>\n",
       "      <td>Modern</td>\n",
       "    </tr>\n",
       "    <tr>\n",
       "      <th>18</th>\n",
       "      <td>Store No. 20</td>\n",
       "      <td>160 Main Street</td>\n",
       "      <td>Nashville</td>\n",
       "      <td>Davidson</td>\n",
       "      <td>TN</td>\n",
       "      <td>Cobb</td>\n",
       "      <td>Original</td>\n",
       "    </tr>\n",
       "  </tbody>\n",
       "</table>\n",
       "</div>"
      ],
      "text/plain": [
       "             NOM          ADRESSE          VILLE          COMTE ETAT  \\\n",
       "0    Store No. 1  999 Main Street       New York       New York   NY   \n",
       "1    Store No. 2   73 Main Street        Chicago           Cook   IL   \n",
       "2    Store No. 3    1 Main Street        Atlanta         Fulton   GA   \n",
       "3    Store No. 4  575 Main Street    Los Angeles    Los Angeles   CA   \n",
       "4    Store No. 5  123 Main Street  San Francisco  San Francisco   CA   \n",
       "5    Store No. 6  353 Main Street   Philadelphia   Philadelphia   PA   \n",
       "6    Store No. 7  839 Main Street     Pittsburgh      Allegheny   PA   \n",
       "7    Store No. 8  651 Main Street    New Orleans        Orleans   LA   \n",
       "8    Store No. 9  912 Main Street        Seattle           King   WA   \n",
       "9   Store No. 10  752 Main Street         Dallas         Dallas   TX   \n",
       "10  Store No. 11   55 Main Street     Cincinnati       Hamilton   OH   \n",
       "11  Store No. 12  546 Main Street    Minneapolis       Hennepin   MN   \n",
       "12  Store No. 14  968 Main Street        Phoenix       Maricopa   AZ   \n",
       "13  Store No. 15  228 Main Street         Denver         Denver   CO   \n",
       "14  Store No. 16  333 Main Street      St. Louis      St. Louis   MO   \n",
       "15  Store No. 17  764 Main Street     Washington             DC   DC   \n",
       "16  Store No. 18  253 Main Street          Miami           Dade   FL   \n",
       "17  Store No. 19  999 Main Street         Boston        Suffolk   MA   \n",
       "18  Store No. 20  160 Main Street      Nashville       Davidson   TN   \n",
       "\n",
       "     MANAGER      TYPE  \n",
       "0      Jones    Modern  \n",
       "1      Smith  Original  \n",
       "2      Davis   Compact  \n",
       "3    Johnson    Modern  \n",
       "4      Green  Original  \n",
       "5      Brown   Compact  \n",
       "6      White    Modern  \n",
       "7   Williams  Original  \n",
       "8     Stuber   Compact  \n",
       "9       Merz    Modern  \n",
       "10  Erickson  Original  \n",
       "11    Kalman   Compact  \n",
       "12   Strehlo  Original  \n",
       "13     Ollom   Compact  \n",
       "14    Mantle    Modern  \n",
       "15      Mays  Original  \n",
       "16     Maris   Compact  \n",
       "17      Ruth    Modern  \n",
       "18      Cobb  Original  "
      ]
     },
     "execution_count": 5,
     "metadata": {},
     "output_type": "execute_result"
    }
   ],
   "source": [
    "df_etoile = pd.read_sql_query(\"select * from MAGASIN\", conn)\n",
    "df_etoile"
   ]
  },
  {
   "cell_type": "markdown",
   "metadata": {},
   "source": [
    "### Question 4 : \n",
    "#### Création de la table \"employe\" avec les colonnes suivantes : \n",
    "- nom : TEXT (Primary key)\n",
    "- age : INTEGER"
   ]
  },
  {
   "cell_type": "code",
   "execution_count": 6,
   "metadata": {},
   "outputs": [],
   "source": [
    "def CreateTableEmployee():\n",
    "    cur.execute('''\n",
    "    CREATE TABLE EMPLOYE\n",
    "    (nom TEXT PRIMARY KEY, Age INTEGER)\n",
    "    ''')\n",
    "\n",
    "CreateTableEmployee()"
   ]
  },
  {
   "cell_type": "code",
   "execution_count": 8,
   "metadata": {},
   "outputs": [
    {
     "data": {
      "text/html": [
       "<div>\n",
       "<style scoped>\n",
       "    .dataframe tbody tr th:only-of-type {\n",
       "        vertical-align: middle;\n",
       "    }\n",
       "\n",
       "    .dataframe tbody tr th {\n",
       "        vertical-align: top;\n",
       "    }\n",
       "\n",
       "    .dataframe thead th {\n",
       "        text-align: right;\n",
       "    }\n",
       "</style>\n",
       "<table border=\"1\" class=\"dataframe\">\n",
       "  <thead>\n",
       "    <tr style=\"text-align: right;\">\n",
       "      <th></th>\n",
       "      <th>nom</th>\n",
       "      <th>Age</th>\n",
       "    </tr>\n",
       "  </thead>\n",
       "  <tbody>\n",
       "  </tbody>\n",
       "</table>\n",
       "</div>"
      ],
      "text/plain": [
       "Empty DataFrame\n",
       "Columns: [nom, Age]\n",
       "Index: []"
      ]
     },
     "execution_count": 8,
     "metadata": {},
     "output_type": "execute_result"
    }
   ],
   "source": [
    "df_employe = pd.read_sql_query(\"select * from EMPLOYE\", conn)\n",
    "df_employe"
   ]
  },
  {
   "cell_type": "markdown",
   "metadata": {},
   "source": [
    "### Question 5 : \n",
    "#### Insertion dans la table \"employe\" du n-uplet : \"toto\" et \"25\""
   ]
  },
  {
   "cell_type": "code",
   "execution_count": 13,
   "metadata": {},
   "outputs": [],
   "source": [
    "def AddEntry(nom,Age):\n",
    "    cur.execute('''INSERT INTO EMPLOYE (nom,Age)\n",
    "    VALUES (?,?)''',(nom,Age))"
   ]
  },
  {
   "cell_type": "code",
   "execution_count": 14,
   "metadata": {},
   "outputs": [],
   "source": [
    "AddEntry('toto',25)"
   ]
  },
  {
   "cell_type": "markdown",
   "metadata": {},
   "source": [
    "### Question 6 : \n",
    "#### On affiche le contenu de la table EMPLOYE"
   ]
  },
  {
   "cell_type": "code",
   "execution_count": 15,
   "metadata": {},
   "outputs": [
    {
     "data": {
      "text/html": [
       "<div>\n",
       "<style scoped>\n",
       "    .dataframe tbody tr th:only-of-type {\n",
       "        vertical-align: middle;\n",
       "    }\n",
       "\n",
       "    .dataframe tbody tr th {\n",
       "        vertical-align: top;\n",
       "    }\n",
       "\n",
       "    .dataframe thead th {\n",
       "        text-align: right;\n",
       "    }\n",
       "</style>\n",
       "<table border=\"1\" class=\"dataframe\">\n",
       "  <thead>\n",
       "    <tr style=\"text-align: right;\">\n",
       "      <th></th>\n",
       "      <th>nom</th>\n",
       "      <th>Age</th>\n",
       "    </tr>\n",
       "  </thead>\n",
       "  <tbody>\n",
       "    <tr>\n",
       "      <th>0</th>\n",
       "      <td>toto</td>\n",
       "      <td>25</td>\n",
       "    </tr>\n",
       "  </tbody>\n",
       "</table>\n",
       "</div>"
      ],
      "text/plain": [
       "    nom  Age\n",
       "0  toto   25"
      ]
     },
     "execution_count": 15,
     "metadata": {},
     "output_type": "execute_result"
    }
   ],
   "source": [
    "df_employe1 = pd.read_sql_query(\"select * from EMPLOYE\", conn)\n",
    "df_employe1"
   ]
  },
  {
   "cell_type": "markdown",
   "metadata": {},
   "source": [
    "#### A ce stade, l'insertion n'est pas encore visible dans la base de données. En effet en ouvrant l'application DB Browser nous remarquons que le table EMPLOYE est vide. Il est nécéssaire rendre permanente la mise à jour."
   ]
  },
  {
   "cell_type": "markdown",
   "metadata": {},
   "source": [
    "### Question 7 : \n",
    "#### On rend permanent l'insertion du n-uplet grâce à la commande commit()"
   ]
  },
  {
   "cell_type": "code",
   "execution_count": 16,
   "metadata": {},
   "outputs": [],
   "source": [
    "conn.commit()"
   ]
  },
  {
   "attachments": {
    "image.png": {
     "image/png": "[encoded data removed]"
    }
   },
   "cell_type": "markdown",
   "metadata": {},
   "source": [
    "## La mise à jour est visible depuis DB Browser\n",
    "\n",
    "![image.png](attachment:image.png)"
   ]
  },
  {
   "cell_type": "markdown",
   "metadata": {},
   "source": [
    "### Question 8 : \n",
    "#### Ecrire un programme qui demande à saisir un nom et un âge, et qui insère les informations saisies dans la table « employe » ; rendre permanente la mise à jour effectuée."
   ]
  },
  {
   "cell_type": "code",
   "execution_count": 24,
   "metadata": {},
   "outputs": [
    {
     "name": "stdout",
     "output_type": "stream",
     "text": [
      "Veuillez saisir le nom de l'employé à insérer Julien\n",
      "Le nom de l'employé que vous avez saisi est :  Julien\n"
     ]
    }
   ],
   "source": [
    "employe_nom = input(\"Veuillez saisir le nom de l'employé à insérer \")\n",
    "print(\"Le nom de l'employé que vous avez saisi est : \", employe_nom)"
   ]
  },
  {
   "cell_type": "code",
   "execution_count": 25,
   "metadata": {},
   "outputs": [
    {
     "name": "stdout",
     "output_type": "stream",
     "text": [
      "Veuillez saisir l'âge de l'employé à insérer 25\n",
      "L'âge de l'employé que vous avez saisi est :  25\n"
     ]
    }
   ],
   "source": [
    "employe_age = input(\"Veuillez saisir l'âge de l'employé à insérer \")\n",
    "print(\"L'âge de l'employé que vous avez saisi est : \", employe_age)\n"
   ]
  },
  {
   "cell_type": "code",
   "execution_count": 26,
   "metadata": {},
   "outputs": [],
   "source": [
    "AddEntry(employe_nom,employe_age)\n",
    "conn.commit()"
   ]
  },
  {
   "cell_type": "code",
   "execution_count": 27,
   "metadata": {},
   "outputs": [
    {
     "data": {
      "text/html": [
       "<div>\n",
       "<style scoped>\n",
       "    .dataframe tbody tr th:only-of-type {\n",
       "        vertical-align: middle;\n",
       "    }\n",
       "\n",
       "    .dataframe tbody tr th {\n",
       "        vertical-align: top;\n",
       "    }\n",
       "\n",
       "    .dataframe thead th {\n",
       "        text-align: right;\n",
       "    }\n",
       "</style>\n",
       "<table border=\"1\" class=\"dataframe\">\n",
       "  <thead>\n",
       "    <tr style=\"text-align: right;\">\n",
       "      <th></th>\n",
       "      <th>nom</th>\n",
       "      <th>Age</th>\n",
       "    </tr>\n",
       "  </thead>\n",
       "  <tbody>\n",
       "    <tr>\n",
       "      <th>0</th>\n",
       "      <td>toto</td>\n",
       "      <td>25</td>\n",
       "    </tr>\n",
       "    <tr>\n",
       "      <th>1</th>\n",
       "      <td>Julien</td>\n",
       "      <td>25</td>\n",
       "    </tr>\n",
       "  </tbody>\n",
       "</table>\n",
       "</div>"
      ],
      "text/plain": [
       "      nom  Age\n",
       "0    toto   25\n",
       "1  Julien   25"
      ]
     },
     "execution_count": 27,
     "metadata": {},
     "output_type": "execute_result"
    }
   ],
   "source": [
    "df_employe2 = pd.read_sql_query(\"select * from EMPLOYE\", conn)\n",
    "df_employe2"
   ]
  },
  {
   "attachments": {
    "image.png": {
     "image/png": "[encoded data removed]"
    }
   },
   "cell_type": "markdown",
   "metadata": {},
   "source": [
    "### Sur DB Viewer on obtient\n",
    "\n",
    "![image.png](attachment:image.png)"
   ]
  },
  {
   "cell_type": "markdown",
   "metadata": {},
   "source": [
    "### Question 9 : \n",
    "#### Ecrire un programme qui demande à saisir un état et qui exécute la requête retrouvant tous les magasins situés dans cet état (requête SELECT paramétrée sur la table MAGASIN)."
   ]
  },
  {
   "cell_type": "code",
   "execution_count": 38,
   "metadata": {},
   "outputs": [
    {
     "name": "stdout",
     "output_type": "stream",
     "text": [
      "Veuillez saisir l'état pour lequel vous voulez afficher tous les magasins PA\n",
      "L'état que vous avez saisi est :  PA\n",
      "\n",
      "\n",
      "---- RESULTAT ---- \n",
      "\n",
      "[('Store No. 4', '575 Main Street', 'Los Angeles', 'Los Angeles', 'CA', 'Johnson', 'Modern'), ('Store No. 5', '123 Main Street', 'San Francisco', 'San Francisco', 'CA', 'Green', 'Original')]\n"
     ]
    }
   ],
   "source": [
    "etat_magasin = input(\"Veuillez saisir l'état pour lequel vous voulez afficher tous les magasins \")\n",
    "print(\"L'état que vous avez saisi est : \", etat_magasin)\n",
    "print(\"\\n\")\n",
    "print(\"---- RESULTAT ---- \\n\")\n",
    "def select_magasin_by_specific_etat(etat_magasin):\n",
    "    cur.execute('''select * from MAGASIN where ETAT=?\n",
    "    ''',(etat_magasin,))\n",
    "    \n",
    "select_magasin_by_specific_etat(\"CA\")\n",
    "\n",
    "result_etat_magasin = cur.fetchall()\n",
    "print(result_etat_magasin)"
   ]
  },
  {
   "cell_type": "code",
   "execution_count": null,
   "metadata": {},
   "outputs": [],
   "source": []
  }
 ],
 "metadata": {
  "kernelspec": {
   "display_name": "Python 3",
   "language": "python",
   "name": "python3"
  },
  "language_info": {
   "codemirror_mode": {
    "name": "ipython",
    "version": 3
   },
   "file_extension": ".py",
   "mimetype": "text/x-python",
   "name": "python",
   "nbconvert_exporter": "python",
   "pygments_lexer": "ipython3",
   "version": "3.8.3"
  }
 },
 "nbformat": 4,
 "nbformat_minor": 4
}
